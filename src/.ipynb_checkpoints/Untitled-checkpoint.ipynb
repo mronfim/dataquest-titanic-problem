{
 "cells": [
  {
   "cell_type": "markdown",
   "metadata": {},
   "source": [
    "# Read in data"
   ]
  },
  {
   "cell_type": "code",
   "execution_count": 3,
   "metadata": {
    "collapsed": false
   },
   "outputs": [],
   "source": [
    "import pandas\n",
    "\n",
    "data = pandas.read_csv(\"../dataset/test.csv\")"
   ]
  },
  {
   "cell_type": "code",
   "execution_count": null,
   "metadata": {
    "collapsed": true
   },
   "outputs": [],
   "source": []
  },
  {
   "cell_type": "markdown",
   "metadata": {},
   "source": [
    "# Fill null data entries"
   ]
  },
  {
   "cell_type": "code",
   "execution_count": 4,
   "metadata": {
    "collapsed": false
   },
   "outputs": [
    {
     "data": {
      "text/plain": [
       "0      Q\n",
       "1      S\n",
       "2      Q\n",
       "3      S\n",
       "4      S\n",
       "5      S\n",
       "6      Q\n",
       "7      S\n",
       "8      C\n",
       "9      S\n",
       "10     S\n",
       "11     S\n",
       "12     S\n",
       "13     S\n",
       "14     S\n",
       "15     C\n",
       "16     Q\n",
       "17     C\n",
       "18     S\n",
       "19     C\n",
       "20     C\n",
       "21     S\n",
       "22     S\n",
       "23     C\n",
       "24     C\n",
       "25     S\n",
       "26     C\n",
       "27     C\n",
       "28     S\n",
       "29     C\n",
       "      ..\n",
       "388    Q\n",
       "389    S\n",
       "390    S\n",
       "391    S\n",
       "392    S\n",
       "393    S\n",
       "394    S\n",
       "395    S\n",
       "396    Q\n",
       "397    C\n",
       "398    S\n",
       "399    Q\n",
       "400    S\n",
       "401    S\n",
       "402    C\n",
       "403    S\n",
       "404    C\n",
       "405    C\n",
       "406    S\n",
       "407    C\n",
       "408    Q\n",
       "409    S\n",
       "410    Q\n",
       "411    Q\n",
       "412    S\n",
       "413    S\n",
       "414    C\n",
       "415    S\n",
       "416    S\n",
       "417    C\n",
       "Name: Embarked, dtype: object"
      ]
     },
     "execution_count": 4,
     "metadata": {},
     "output_type": "execute_result"
    }
   ],
   "source": [
    "data[\"Age\"].fillna(data[\"Age\"].mean())\n",
    "data[\"Embarked\"].fillna(\"S\")"
   ]
  },
  {
   "cell_type": "markdown",
   "metadata": {},
   "source": [
    "# Convert non-numeric entries into numbers"
   ]
  },
  {
   "cell_type": "code",
   "execution_count": 11,
   "metadata": {
    "collapsed": false
   },
   "outputs": [
    {
     "name": "stdout",
     "output_type": "stream",
     "text": [
      "  Sex Embarked                                          Name\n",
      "0   0        2                              Kelly, Mr. James\n",
      "1   1        0              Wilkes, Mrs. James (Ellen Needs)\n",
      "2   0        2                     Myles, Mr. Thomas Francis\n",
      "3   0        0                              Wirz, Mr. Albert\n",
      "4   1        0  Hirvonen, Mrs. Alexander (Helga E Lindqvist)\n"
     ]
    }
   ],
   "source": [
    "data.loc[data[\"Sex\"] == \"male\", \"Sex\"] = 0\n",
    "data.loc[data[\"Sex\"] == \"female\", \"Sex\"] = 1\n",
    "\n",
    "data.loc[data[\"Embarked\"] == \"S\", \"Embarked\"] = 0\n",
    "data.loc[data[\"Embarked\"] == \"C\", \"Embarked\"] = 1\n",
    "data.loc[data[\"Embarked\"] == \"Q\", \"Embarked\"] = 2\n",
    "\n",
    "print(data[[\"Sex\", \"Embarked\", \"Name\"]][:5])"
   ]
  },
  {
   "cell_type": "markdown",
   "metadata": {},
   "source": [
    "# Linear Regression and Cross Validation"
   ]
  },
  {
   "cell_type": "code",
   "execution_count": null,
   "metadata": {
    "collapsed": true
   },
   "outputs": [],
   "source": [
    "import numpy as np\n",
    "from sklearn.linear_model import LinearRegression\n",
    "from sklearn.cross_validation import cross_validation\n",
    "\n",
    "predictors = [\"Pclass\", \"Sex\", \"Age\", \"SibSp\", \"Parch\", \"Fare\", \"Embarked\"]\n",
    "\n",
    "alg = LinearRegression()\n",
    "kf = KFold(data.shape[0], n_folds=3, random_state=1)\n",
    "\n",
    "prediction = []\n",
    "for train, test in kf:\n",
    "    # The predictors used to train the algorihm. Only take the rows in the train fold.\n",
    "    train_predictors = (data[predictors].iloc[train, :])\n",
    "    # The target used to train the algorithm.\n",
    "    train_target = data[\"Survived\"].iloc[train]\n",
    "    # Training the algorithm using the predictors and target.\n",
    "    alg.fit(train_predictors, train_target)\n",
    "    # Now make the prediction on the test fold.\n",
    "    test_predictions = alg.predict(data[predictors].iloc[test, :])\n",
    "    prediction.append(test_predictions)\n",
    "\n",
    "# The predictors are in three seperate arrays within prediction[]\n",
    "# We concatenate them in axis 0 as they only have one axis\n",
    "predictions = np.concatenate(predictions, axis=0)\n",
    "\n",
    "# Map the prediction outcomes\n",
    "prediction[prediction > .5] = 1\n",
    "prediction[prediction <=.5] = 0\n",
    "\n",
    "accuracy = sum(prediction[prediction == data[\"Survived\"]]) / len(prediction)"
   ]
  }
 ],
 "metadata": {
  "kernelspec": {
   "display_name": "Python 2",
   "language": "python",
   "name": "python2"
  },
  "language_info": {
   "codemirror_mode": {
    "name": "ipython",
    "version": 2
   },
   "file_extension": ".py",
   "mimetype": "text/x-python",
   "name": "python",
   "nbconvert_exporter": "python",
   "pygments_lexer": "ipython2",
   "version": "2.7.9"
  }
 },
 "nbformat": 4,
 "nbformat_minor": 0
}
